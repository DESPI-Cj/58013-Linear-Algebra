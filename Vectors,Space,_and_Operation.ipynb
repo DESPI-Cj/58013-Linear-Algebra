{
  "nbformat": 4,
  "nbformat_minor": 0,
  "metadata": {
    "colab": {
      "provenance": [],
      "authorship_tag": "ABX9TyMaag8vtisgvOUdeWsKQKIU",
      "include_colab_link": true
    },
    "kernelspec": {
      "name": "python3",
      "display_name": "Python 3"
    },
    "language_info": {
      "name": "python"
    }
  },
  "cells": [
    {
      "cell_type": "markdown",
      "metadata": {
        "id": "view-in-github",
        "colab_type": "text"
      },
      "source": [
        "<a href=\"https://colab.research.google.com/github/DESPI-Cj/58013-Linear-Algebra/blob/main/Vectors%2CSpace%2C_and_Operation.ipynb\" target=\"_parent\"><img src=\"https://colab.research.google.com/assets/colab-badge.svg\" alt=\"Open In Colab\"/></a>"
      ]
    },
    {
      "cell_type": "code",
      "execution_count": null,
      "metadata": {
        "colab": {
          "base_uri": "https://localhost:8080/"
        },
        "id": "JYJEDlCwjhTU",
        "outputId": "fd8e3e99-5af1-4def-ae67-8a974ceed141"
      },
      "outputs": [
        {
          "output_type": "stream",
          "name": "stdout",
          "text": [
            "Vector A is  [4 3]\n",
            "Vector B is  [ 2 -5]\n"
          ]
        }
      ],
      "source": [
        "import numpy as np\n",
        "A = np.array([4,3])\n",
        "B = np.array([2, -5])\n",
        "print('Vector A is ', A)\n",
        "print('Vector B is ', B)"
      ]
    },
    {
      "cell_type": "code",
      "source": [
        "import numpy as np\n",
        "\n",
        "# Define arrays\n",
        "ball1 = np.array([1, 2, 3])\n",
        "ball2 = np.array([0, -1, 1])\n",
        "\n",
        "print(ball1)\n",
        "print(ball2)\n",
        "\n",
        "# Create a tuple containing the shapes of ball1 and ball2\n",
        "shape_ball1 = (ball1.shape)\n",
        "shape_ball2 = (ball2.shape)\n",
        "combined_shape = shape_ball1 + shape_ball2\n",
        "\n",
        "# Checking the combined shape\n",
        "print(combined_shape)\n"
      ],
      "metadata": {
        "colab": {
          "base_uri": "https://localhost:8080/"
        },
        "id": "eblnanElkMS-",
        "outputId": "1358bc92-0b44-4a3e-a6cf-8a6408c3cb0f"
      },
      "execution_count": null,
      "outputs": [
        {
          "output_type": "stream",
          "name": "stdout",
          "text": [
            "[1 2 3]\n",
            "[ 0 -1  1]\n",
            "(3, 3)\n"
          ]
        }
      ]
    },
    {
      "cell_type": "markdown",
      "source": [
        "Addition\n",
        "\n",
        "\n",
        "\n"
      ],
      "metadata": {
        "id": "rnlJwkidsKmf"
      }
    },
    {
      "cell_type": "code",
      "source": [
        "import numpy as np\n",
        "R1 = np.array([4,3])\n",
        "R2 = np.array([2,-5])\n",
        "R = R1 + R2\n",
        "print(R)"
      ],
      "metadata": {
        "colab": {
          "base_uri": "https://localhost:8080/"
        },
        "id": "CxR5v-PbsT-G",
        "outputId": "6d177731-ef3f-4881-eae1-0df20dc52d74"
      },
      "execution_count": null,
      "outputs": [
        {
          "output_type": "stream",
          "name": "stdout",
          "text": [
            "[ 6 -2]\n"
          ]
        }
      ]
    },
    {
      "cell_type": "markdown",
      "source": [
        "Subtraction\n"
      ],
      "metadata": {
        "id": "_fQmImptt2OX"
      }
    },
    {
      "cell_type": "code",
      "source": [
        "import numpy as np\n",
        "R1 = np.array([4,3])\n",
        "R2 = np.array([2,-5])\n",
        "Rab = np.subtract(R1,R2)\n",
        "Rba = np.subtract(R2,R1)\n",
        "print(Rab)\n",
        "print(Rba)"
      ],
      "metadata": {
        "colab": {
          "base_uri": "https://localhost:8080/"
        },
        "id": "Tbev1IWwslJA",
        "outputId": "ae02cce3-dbb9-483f-b00c-c44d72ef6d1b"
      },
      "execution_count": 28,
      "outputs": [
        {
          "output_type": "stream",
          "name": "stdout",
          "text": [
            "[2 8]\n",
            "[-2 -8]\n"
          ]
        }
      ]
    },
    {
      "cell_type": "markdown",
      "source": [
        "Scalar Product"
      ],
      "metadata": {
        "id": "EwG-EmtVuxU9"
      }
    },
    {
      "cell_type": "code",
      "source": [
        "import numpy as np\n",
        "S = np.array([2])\n",
        "V = S*A\n",
        "print(V)\n",
        "\n"
      ],
      "metadata": {
        "colab": {
          "base_uri": "https://localhost:8080/"
        },
        "id": "cpqXN1e8u51B",
        "outputId": "9b682778-3ac3-4a39-905d-afb75a5ea8b3"
      },
      "execution_count": 42,
      "outputs": [
        {
          "output_type": "stream",
          "name": "stdout",
          "text": [
            "[8 6]\n",
            "[  8 -15]\n"
          ]
        }
      ]
    },
    {
      "cell_type": "markdown",
      "source": [
        "Multiplication"
      ],
      "metadata": {
        "id": "O-ZiuPeovcNU"
      }
    },
    {
      "cell_type": "code",
      "source": [
        "import numpy as np\n",
        "R1 = np.array([4, 3])\n",
        "R2 = np.array(([2],[-5]))\n",
        "\n",
        "print(R1*R2)"
      ],
      "metadata": {
        "colab": {
          "base_uri": "https://localhost:8080/"
        },
        "id": "_wUiPT6XvQX0",
        "outputId": "1537cdf0-2413-410d-dfc6-f113a9ee66dc"
      },
      "execution_count": 49,
      "outputs": [
        {
          "output_type": "stream",
          "name": "stdout",
          "text": [
            "[[  8   6]\n",
            " [-20 -15]]\n"
          ]
        }
      ]
    },
    {
      "cell_type": "markdown",
      "source": [
        "Dot Product"
      ],
      "metadata": {
        "id": "ObT4NcSTzd61"
      }
    },
    {
      "cell_type": "code",
      "source": [
        "import numpy as np\n",
        "\n",
        "R1 = np.array([4, 3])\n",
        "R2 = np.array([2, -5])\n",
        "\n",
        "dot_product = np.dot(R1, R2)\n",
        "print(dot_product)\n",
        "\n"
      ],
      "metadata": {
        "colab": {
          "base_uri": "https://localhost:8080/"
        },
        "id": "8_1RlJ7Axc9h",
        "outputId": "67c60cb8-2f65-46d4-a5c4-96f49ac2a5b0"
      },
      "execution_count": 50,
      "outputs": [
        {
          "output_type": "stream",
          "name": "stdout",
          "text": [
            "-7\n"
          ]
        }
      ]
    },
    {
      "cell_type": "markdown",
      "source": [
        "Cross Product"
      ],
      "metadata": {
        "id": "xjNy6SYwziML"
      }
    },
    {
      "cell_type": "code",
      "source": [
        "import numpy as np\n",
        "\n",
        "# Define two 3D vectors\n",
        "vector1 = np.array([1, 2, 3])\n",
        "vector2 = np.array([4, 5, 6])\n",
        "\n",
        "# Calculate the cross product\n",
        "cross_product = np.cross(vector1, vector2)\n",
        "\n",
        "print(\"Cross product:\", cross_product)\n"
      ],
      "metadata": {
        "colab": {
          "base_uri": "https://localhost:8080/"
        },
        "id": "vLxI2CVGzbsZ",
        "outputId": "8f98d860-f5d0-4a0e-8d77-cf27531288cb"
      },
      "execution_count": 51,
      "outputs": [
        {
          "output_type": "stream",
          "name": "stdout",
          "text": [
            "Cross product: [-3  6 -3]\n"
          ]
        }
      ]
    },
    {
      "cell_type": "code",
      "source": [
        "#Property of Matrix\n",
        "#Identity Matrix\n",
        "\n",
        "A = np.array([4,3])\n",
        "B = np.array(((2),(-5)))\n",
        "\n",
        "c = np.eye(3,3)\n",
        "print(c)\n",
        "\n",
        "#Zero Matrix\n",
        "d = np.zeros([5,5])\n",
        "print(\"\\n\",d)\n",
        "\n",
        "#Full Matrix\n",
        "e = np.full((3,3),7)\n",
        "print(\"\\n\",e)\n",
        "\n",
        "#Transpose Matrix\n",
        "f = np.transpose(A)\n",
        "print(\"\\n\",f,\"\\n\")\n",
        "\n",
        "#Empty Matrix\n",
        "empty_array = np.empty((3, 3))\n",
        "print(empty_array)\n"
      ],
      "metadata": {
        "colab": {
          "base_uri": "https://localhost:8080/"
        },
        "id": "BVfO5wdEzsrc",
        "outputId": "ef93d756-585a-47dc-803b-029a31ad55fd"
      },
      "execution_count": 66,
      "outputs": [
        {
          "output_type": "stream",
          "name": "stdout",
          "text": [
            "[[1. 0. 0.]\n",
            " [0. 1. 0.]\n",
            " [0. 0. 1.]]\n",
            "\n",
            " [[0. 0. 0. 0. 0.]\n",
            " [0. 0. 0. 0. 0.]\n",
            " [0. 0. 0. 0. 0.]\n",
            " [0. 0. 0. 0. 0.]\n",
            " [0. 0. 0. 0. 0.]]\n",
            "\n",
            " [[7 7 7]\n",
            " [7 7 7]\n",
            " [7 7 7]]\n",
            "\n",
            " [4 3] \n",
            "\n",
            "[[4.86081907e-310 0.00000000e+000 0.00000000e+000]\n",
            " [0.00000000e+000 0.00000000e+000 0.00000000e+000]\n",
            " [0.00000000e+000 0.00000000e+000 0.00000000e+000]]\n"
          ]
        }
      ]
    }
  ]
}