{
  "nbformat": 4,
  "nbformat_minor": 0,
  "metadata": {
    "colab": {
      "provenance": [],
      "authorship_tag": "ABX9TyNwh4xQT/6bepsSW1s9Mkxo",
      "include_colab_link": true
    },
    "kernelspec": {
      "name": "python3",
      "display_name": "Python 3"
    },
    "language_info": {
      "name": "python"
    }
  },
  "cells": [
    {
      "cell_type": "markdown",
      "metadata": {
        "id": "view-in-github",
        "colab_type": "text"
      },
      "source": [
        "<a href=\"https://colab.research.google.com/github/DESPI-Cj/58013-Linear-Algebra/blob/main/Python_Exercise_4.ipynb\" target=\"_parent\"><img src=\"https://colab.research.google.com/assets/colab-badge.svg\" alt=\"Open In Colab\"/></a>"
      ]
    },
    {
      "cell_type": "code",
      "source": [
        "import numpy as np\n",
        "A = np.array([\n",
        "    [-0.4],\n",
        "    [4.3],\n",
        "    [-0.6]\n",
        "])\n",
        "\n",
        "B = np.array([-0.2, 0.2, 1])\n",
        "C = np.array([-0.2, 2.1, -1.5])\n",
        "\n",
        "\n",
        "#Vector Addition\n",
        "sum = A + B + C\n",
        "print(\"The sum of the arrays is \\n\", sum, \"\\n\")\n",
        "\n",
        "#Vector Subtraction\n",
        "diff = A - B - C\n",
        "print(\"The difference of the arrays is \\n\", diff, \"\\n\")\n",
        "\n",
        "#Vector Multiplication\n",
        "product = A * B * C\n",
        "print(\"The product of the arrays is \\n\", product, \"\\n\")\n",
        "\n",
        "#Vector Divison\n",
        "quotient = A / B / C\n",
        "print(\"The quotient of the arrays is \\n\", quotient, \"\\n\")\n"
      ],
      "metadata": {
        "id": "c4zliP4KXolr",
        "colab": {
          "base_uri": "https://localhost:8080/"
        },
        "outputId": "9f02808b-971e-4a5a-96f0-a3045405810d"
      },
      "execution_count": 17,
      "outputs": [
        {
          "output_type": "stream",
          "name": "stdout",
          "text": [
            "The sum of the arrays is \n",
            " [[-0.8  1.9 -0.9]\n",
            " [ 3.9  6.6  3.8]\n",
            " [-1.   1.7 -1.1]] \n",
            "\n",
            "The difference of the arrays is \n",
            " [[ 0.  -2.7  0.1]\n",
            " [ 4.7  2.   4.8]\n",
            " [-0.2 -2.9 -0.1]] \n",
            "\n",
            "The product of the arrays is \n",
            " [[-0.016 -0.168  0.6  ]\n",
            " [ 0.172  1.806 -6.45 ]\n",
            " [-0.024 -0.252  0.9  ]] \n",
            "\n",
            "The quotient of the arrays is \n",
            " [[-10.          -0.95238095   0.26666667]\n",
            " [107.5         10.23809524  -2.86666667]\n",
            " [-15.          -1.42857143   0.4       ]] \n",
            "\n"
          ]
        }
      ]
    },
    {
      "cell_type": "code",
      "source": [],
      "metadata": {
        "id": "LTd3WBtwXoLO"
      },
      "execution_count": null,
      "outputs": []
    }
  ]
}