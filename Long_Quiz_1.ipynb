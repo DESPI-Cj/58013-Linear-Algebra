{
  "nbformat": 4,
  "nbformat_minor": 0,
  "metadata": {
    "colab": {
      "provenance": [],
      "authorship_tag": "ABX9TyODRriF0UiqVQ6pgG6R75EE",
      "include_colab_link": true
    },
    "kernelspec": {
      "name": "python3",
      "display_name": "Python 3"
    },
    "language_info": {
      "name": "python"
    }
  },
  "cells": [
    {
      "cell_type": "markdown",
      "metadata": {
        "id": "view-in-github",
        "colab_type": "text"
      },
      "source": [
        "<a href=\"https://colab.research.google.com/github/DESPI-Cj/58013-Linear-Algebra/blob/main/Long_Quiz_1.ipynb\" target=\"_parent\"><img src=\"https://colab.research.google.com/assets/colab-badge.svg\" alt=\"Open In Colab\"/></a>"
      ]
    },
    {
      "cell_type": "markdown",
      "source": [
        "General Instructions:\n",
        "\n",
        "On your Colab, name your activity as Long Quiz 1.ipynb and save a copy to your GitHub repository and don't forget to send the link here.\n",
        "Using two different code cells, properly label each problem set.\n",
        "Perform each operations in matrices using Python programming codes."
      ],
      "metadata": {
        "id": "KAZsvobrgRN3"
      }
    },
    {
      "cell_type": "markdown",
      "source": [
        "Problem 1. Consider the four matrices, (20 points each)"
      ],
      "metadata": {
        "id": "qHTYKcRIgWG5"
      }
    },
    {
      "cell_type": "code",
      "execution_count": 49,
      "metadata": {
        "colab": {
          "base_uri": "https://localhost:8080/"
        },
        "id": "fvosLaKOgOfN",
        "outputId": "f7950522-0439-4e7e-cfbe-e23bb6f26afa"
      },
      "outputs": [
        {
          "output_type": "stream",
          "name": "stdout",
          "text": [
            "Dot product of matrices A and B\n",
            "[[22 28]\n",
            " [49 64]]\n"
          ]
        }
      ],
      "source": [
        "# a.) AB\n",
        "#Note: dot product of A and B?\n",
        "import numpy as np\n",
        "\n",
        "A = np.array([\n",
        "    [1, 2, 3],\n",
        "    [4, 5, 6]\n",
        "])\n",
        "\n",
        "B = np.array([\n",
        "    [1,2],\n",
        "    [3,4],\n",
        "    [5,6]\n",
        "])\n",
        "\n",
        "AB = np.dot(A,B)\n",
        "print(\"Dot product of matrices A and B\")\n",
        "print(np.matrix(AB))\n"
      ]
    },
    {
      "cell_type": "code",
      "source": [
        "# b.) D + D.\n",
        "import numpy as np\n",
        "D = ([\n",
        "    [1,2],\n",
        "    [3,4]\n",
        "])\n",
        "print(\"Original Matrix:\")\n",
        "print(np.matrix(D))\n",
        "print(\"When the matrix D + D is\")\n",
        "add = np.add(D,D)\n",
        "print(np.matrix(add))\n",
        "\n"
      ],
      "metadata": {
        "colab": {
          "base_uri": "https://localhost:8080/"
        },
        "id": "IT8bFUz-gkOU",
        "outputId": "ad33d867-4a6a-4ccf-f272-ae86be7ad532"
      },
      "execution_count": 54,
      "outputs": [
        {
          "output_type": "stream",
          "name": "stdout",
          "text": [
            "Original Matrix:\n",
            "[[1 2]\n",
            " [3 4]]\n",
            "When the matrix D + D is\n",
            "[[2 4]\n",
            " [6 8]]\n"
          ]
        }
      ]
    },
    {
      "cell_type": "code",
      "source": [
        "# c.) 2C\n",
        "import numpy as np\n",
        "C = ([\n",
        "    [1,2,3],\n",
        "    [4,5,6],\n",
        "    [7,8,9]\n",
        "])\n",
        "print(\"Original Matrix:\")\n",
        "print(np.matrix(C))\n",
        "\n",
        "C2 = np.multiply(C, 2)\n",
        "print(\"When the matrix C is multiplie by 2 is\")\n",
        "print(np.matrix(C2))"
      ],
      "metadata": {
        "colab": {
          "base_uri": "https://localhost:8080/"
        },
        "id": "cgQZEZqbkPdL",
        "outputId": "bf0b66c8-6c7d-415c-b3a1-de09eb1c21b1"
      },
      "execution_count": 52,
      "outputs": [
        {
          "output_type": "stream",
          "name": "stdout",
          "text": [
            "Original Matrix:\n",
            "[[1 2 3]\n",
            " [4 5 6]\n",
            " [7 8 9]]\n",
            "When the matrix C is multiplie by 2 is\n",
            "[[ 2  4  6]\n",
            " [ 8 10 12]\n",
            " [14 16 18]]\n"
          ]
        }
      ]
    },
    {
      "cell_type": "markdown",
      "source": [
        "Problem 2. Find the cross-product of matrices, A = [2,7,4] and\n",
        "\n",
        "B = [3,9,8]. Show your solutions using Python program . (40 points)"
      ],
      "metadata": {
        "id": "fMoM-7JRmJh-"
      }
    },
    {
      "cell_type": "code",
      "source": [
        "import numpy as np\n",
        "\n",
        "A = ([2, 7, 4])\n",
        "B = ([3,9,8])\n",
        "\n",
        "AB = np.cross(A,B)\n",
        "print(\"The cross-product of matrices A and B is\")\n",
        "print(np.matrix(AB))\n"
      ],
      "metadata": {
        "colab": {
          "base_uri": "https://localhost:8080/"
        },
        "id": "Khj8wZSjmKXq",
        "outputId": "3399a7ea-4be4-4677-86c8-c7265d738b8e"
      },
      "execution_count": 50,
      "outputs": [
        {
          "output_type": "stream",
          "name": "stdout",
          "text": [
            "The cross-product of matrices A and B is\n",
            "[[20 -4 -3]]\n"
          ]
        }
      ]
    },
    {
      "cell_type": "code",
      "source": [],
      "metadata": {
        "id": "psJkf9MrnOW5"
      },
      "execution_count": null,
      "outputs": []
    }
  ]
}