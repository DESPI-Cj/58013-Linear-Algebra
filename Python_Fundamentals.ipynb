{
  "nbformat": 4,
  "nbformat_minor": 0,
  "metadata": {
    "colab": {
      "provenance": [],
      "authorship_tag": "ABX9TyPdYatlTOH3VbPt45zkr7kl",
      "include_colab_link": true
    },
    "kernelspec": {
      "name": "python3",
      "display_name": "Python 3"
    },
    "language_info": {
      "name": "python"
    }
  },
  "cells": [
    {
      "cell_type": "markdown",
      "metadata": {
        "id": "view-in-github",
        "colab_type": "text"
      },
      "source": [
        "<a href=\"https://colab.research.google.com/github/DESPI-Cj/58013-Linear-Algebra/blob/main/Python_Fundamentals.ipynb\" target=\"_parent\"><img src=\"https://colab.research.google.com/assets/colab-badge.svg\" alt=\"Open In Colab\"/></a>"
      ]
    },
    {
      "cell_type": "code",
      "execution_count": 4,
      "metadata": {
        "colab": {
          "base_uri": "https://localhost:8080/"
        },
        "id": "voYkv1Q4b9A2",
        "outputId": "89a946a6-4cfc-462d-caac-2e4e28ff5fec"
      },
      "outputs": [
        {
          "output_type": "execute_result",
          "data": {
            "text/plain": [
              "0"
            ]
          },
          "metadata": {},
          "execution_count": 4
        }
      ],
      "source": [
        "#A.\tVariable and Data Types\n",
        "x = 1\n",
        "a,b = 0, -1\n",
        "\n",
        "type(x)\n",
        "\n",
        "y = 1.0\n",
        "type(y)\n",
        "\n",
        "x = float(x)\n",
        "type(x)\n",
        "\n",
        "s,t,u = \"0\", '1', 'one'\n",
        "type(s)\n",
        "\n",
        "s_int = int(s)\n",
        "s_int\n",
        "\n"
      ]
    },
    {
      "cell_type": "code",
      "source": [
        "#Arithmetic Operations\n",
        "a,b,c,d = 2.0, -0.5, 0, -32\n",
        "### Addition\n",
        "S = a+b\n",
        "print(S)\n",
        "\n",
        "### Subtraction\n",
        "D = b-d\n",
        "print(D)\n",
        "\n",
        "### Multiplication\n",
        "P = a*d\n",
        "print(P)\n",
        "\n",
        "### Division\n",
        "Q = c/a\n",
        "print(Q)\n",
        "\n",
        "### Exponentiation\n",
        "E = a**b\n",
        "print(E)\n",
        "\n",
        "### Modulo\n",
        "mod = d%a\n",
        "print(mod)\n"
      ],
      "metadata": {
        "colab": {
          "base_uri": "https://localhost:8080/"
        },
        "id": "oP_xHr8iePHN",
        "outputId": "dbe368fd-9276-4eca-8ee8-d315f64685dd"
      },
      "execution_count": 6,
      "outputs": [
        {
          "output_type": "stream",
          "name": "stdout",
          "text": [
            "1.5\n",
            "31.5\n",
            "-64.0\n",
            "0.0\n"
          ]
        }
      ]
    },
    {
      "cell_type": "code",
      "source": [
        "#C.\tAssignment Operations\n",
        "G, H, J, K = 0, 100, 2, 2\n",
        "\n",
        "G += a\n",
        "print(G)\n",
        "\n",
        "H -= d\n",
        "print(H)\n",
        "\n",
        "J *= 2\n",
        "print(J)\n",
        "\n",
        "K **= 2\n",
        "print(K)\n"
      ],
      "metadata": {
        "colab": {
          "base_uri": "https://localhost:8080/"
        },
        "id": "7N84yFsveae7",
        "outputId": "8d0eed2c-e887-471a-e4fd-d3a50fc2d8a8"
      },
      "execution_count": 10,
      "outputs": [
        {
          "output_type": "stream",
          "name": "stdout",
          "text": [
            "2.0\n",
            "132\n",
            "4\n",
            "4\n"
          ]
        }
      ]
    },
    {
      "cell_type": "code",
      "source": [
        "#D.\tComparators\n",
        "res_1, res_2, res_3 = 1, 2.0, \"1\"\n",
        "true_val = 1.0\n",
        "\n",
        "## Equality\n",
        "res_1 == true_val\n",
        "\n",
        "## Non-equality\n",
        "res_2 != true_val\n",
        "\n",
        "## Inequality\n",
        "t1 = res_1 > res_2\n",
        "t2 = res_1 < res_2/2\n",
        "t3 = res_1 >= res_2/2\n",
        "t4 = res_1 <= res_2\n",
        "t1\n",
        "\n",
        "print(\"Is res_1 greater than res_2?\", t1)\n",
        "print(\"Is res_1 less than res_2/2?\", t2)\n",
        "print(\"Is res_1 greater than or equal to res_2/2?\", t3)\n",
        "print(\"Is res_1 less than or equal to res_2?\", t4)"
      ],
      "metadata": {
        "colab": {
          "base_uri": "https://localhost:8080/"
        },
        "id": "2TmjBNPXe3gb",
        "outputId": "5639f01b-6cd5-4461-99bb-c126af7f7fdd"
      },
      "execution_count": 19,
      "outputs": [
        {
          "output_type": "stream",
          "name": "stdout",
          "text": [
            "Is res_1 greater than res_2? False\n",
            "Is res_1 less than res_2/2? False\n",
            "Is res_1 greater than or equal to res_2/2? True\n",
            "Is res_1 less than or equal to res_2? True\n"
          ]
        }
      ]
    },
    {
      "cell_type": "code",
      "source": [
        "#Logical\n",
        "res_1 == true_val\n",
        "\n",
        "res_1 is true_val\n",
        "\n",
        "res_1 is not true_val\n",
        "\n",
        "p, q = True, False\n",
        "conj = p and q\n",
        "print(conj)\n",
        "\n",
        "p, q = True, False\n",
        "disj = p or q\n",
        "print(disj)\n",
        "\n",
        "\n",
        "p, q = True, False\n",
        "nand = not(p and q)\n",
        "print(nand)\n",
        "\n",
        "p, q = True, False\n",
        "xor = (not p and q) or (p and not q)\n",
        "print(xor)\n"
      ],
      "metadata": {
        "colab": {
          "base_uri": "https://localhost:8080/"
        },
        "id": "It-A6VSmgaea",
        "outputId": "9194f28c-e0da-45e3-ad2e-787418b9406e"
      },
      "execution_count": 21,
      "outputs": [
        {
          "output_type": "stream",
          "name": "stdout",
          "text": [
            "False\n",
            "True\n",
            "True\n",
            "True\n"
          ]
        }
      ]
    },
    {
      "cell_type": "code",
      "source": [
        "#F.\tInput and Output Operations\n",
        "print(\"Hello World\")\n",
        "\n",
        "cnt = 1\n",
        "\n",
        "string = \"Hello World\"\n",
        "print(string, \", Current run count is:\", cnt)\n",
        "cnt += 1\n",
        "\n",
        "print(f\"{string}, Current count is: {cnt}\")\n",
        "\n",
        "sem_grade = 82.243564657461234\n",
        "name = \"\"\n",
        "print(\"Hello {}, your semestral grade is: {}\".format(name, sem_grade))\n",
        "\n",
        "w_pg, w_mg, w_fg = 0.3, 0.3, 0.4\n",
        "print(\"The weights of your semestral grades are:\\\n",
        "\\n\\t{:.2%} for Prelims\\\n",
        "\\n\\t{:.2%} for Midterms, and\\\n",
        "\\n\\t{:.2%} for Finals.\".format(w_pg, w_mg, w_fg))\n",
        "\n",
        "x = input(\"enter a number: \")\n",
        "x\n",
        "\n",
        "name = input(\"Kimi no nawa: \")\n",
        "pg = input(\"Enter prelim grade: \")\n",
        "mg = input(\"Enter midterm grade: \")\n",
        "fg = input(\"Enter finals grade: \")\n",
        "sem_grade = None\n",
        "print(\"Hello {}, your semestral grade is: {}\".format(name, sem_grade))\n"
      ],
      "metadata": {
        "colab": {
          "base_uri": "https://localhost:8080/"
        },
        "id": "Bc0Rxiw1rKsL",
        "outputId": "baccae28-dc8a-4abb-fd2a-102c9633c608"
      },
      "execution_count": 22,
      "outputs": [
        {
          "output_type": "stream",
          "name": "stdout",
          "text": [
            "Hello World\n",
            "Hello World , Current run count is: 1\n",
            "Hello World, Current count is: 2\n",
            "Hello , your semestral grade is: 82.24356465746123\n",
            "The weights of your semestral grades are:\n",
            "\t30.00% for Prelims\n",
            "\t30.00% for Midterms, and\n",
            "\t40.00% for Finals.\n",
            "enter a number: 10\n",
            "Kimi no nawa: 10\n",
            "Enter prelim grade: 100\n",
            "Enter midterm grade: 10\n",
            "Enter finals grade: 10\n",
            "Hello 10, your semestral grade is: None\n"
          ]
        }
      ]
    }
  ]
}