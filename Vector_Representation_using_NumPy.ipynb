{
  "nbformat": 4,
  "nbformat_minor": 0,
  "metadata": {
    "colab": {
      "provenance": [],
      "authorship_tag": "ABX9TyPABO7rIVSTvOM3qhs4VBXB",
      "include_colab_link": true
    },
    "kernelspec": {
      "name": "python3",
      "display_name": "Python 3"
    },
    "language_info": {
      "name": "python"
    }
  },
  "cells": [
    {
      "cell_type": "markdown",
      "metadata": {
        "id": "view-in-github",
        "colab_type": "text"
      },
      "source": [
        "<a href=\"https://colab.research.google.com/github/DESPI-Cj/58013-Linear-Algebra/blob/main/Vector_Representation_using_NumPy.ipynb\" target=\"_parent\"><img src=\"https://colab.research.google.com/assets/colab-badge.svg\" alt=\"Open In Colab\"/></a>"
      ]
    },
    {
      "cell_type": "code",
      "execution_count": 8,
      "metadata": {
        "colab": {
          "base_uri": "https://localhost:8080/"
        },
        "id": "sMgmmYQrtTfI",
        "outputId": "8fa9fe17-fa3c-4621-c954-664e460ab8f0"
      },
      "outputs": [
        {
          "output_type": "execute_result",
          "data": {
            "text/plain": [
              "array(-0.5)"
            ]
          },
          "metadata": {},
          "execution_count": 8
        }
      ],
      "source": [
        "#Scalars\n",
        "import numpy as np\n",
        "\n",
        "x = np.array(-0.5)\n",
        "x\n"
      ]
    },
    {
      "cell_type": "code",
      "source": [
        "#Vectors\n",
        "A = np.array([4,3])\n",
        "B = np.array([2, -5])\n",
        "\n",
        "print('Vector A is ', A)\n",
        "print('Vector B is ', B)\n"
      ],
      "metadata": {
        "colab": {
          "base_uri": "https://localhost:8080/"
        },
        "id": "x4ewm64stw-h",
        "outputId": "2df513c4-b8f8-42a2-9084-351142428fc1"
      },
      "execution_count": 9,
      "outputs": [
        {
          "output_type": "stream",
          "name": "stdout",
          "text": [
            "Vector A is  [4 3]\n",
            "Vector B is  [ 2 -5]\n"
          ]
        }
      ]
    },
    {
      "cell_type": "markdown",
      "source": [
        "\n",
        "Describing vectors in NumPy\n",
        "\tDescribing vectors is very important if we want to perform basic to advanced operations with them. The fundamental ways in describing vectors are knowing their shape, size and dimensions.\n"
      ],
      "metadata": {
        "id": "1THfByvsuCbF"
      }
    },
    {
      "cell_type": "code",
      "source": [
        "import numpy as np\n",
        "#Ano po ba value nung J at K sa code? Ginawa ko na lang po ball1 at ball2\n",
        "# Define arrays and a matrix\n",
        "ball1 = np.array([1, 2, 3])\n",
        "ball2 = np.array([0, 1, -1])\n",
        "pool = np.array([ball2, ball1])\n",
        "\n",
        "# Checking shape of the 'pool' matrix\n",
        "print(\"Shape of 'pool' matrix:\", pool.shape)\n",
        "\n",
        "# Define a matrix 'U'\n",
        "U = np.array([\n",
        "    [1, 2],\n",
        "    [2, 3]\n",
        "])\n",
        "\n",
        "# Checking shape of the matrix 'U'\n",
        "print(U.shape)\n",
        "\n",
        "# Checking the size of matrix 'U'\n",
        "print(U.size)\n",
        "\n",
        "# Checking the dimensions (rank) of arrays\n",
        "print(\"Dimensions of 'A':\", ball2.ndim)  # 'A' (ball2) is a 1D array\n",
        "print(\"Dimensions of 'pool':\", pool.ndim)  # 'pool' is a 2D array (matrix)\n"
      ],
      "metadata": {
        "colab": {
          "base_uri": "https://localhost:8080/"
        },
        "id": "KzPwJ7brt-Dm",
        "outputId": "d117c151-896a-494f-f747-f1790d443960"
      },
      "execution_count": 16,
      "outputs": [
        {
          "output_type": "stream",
          "name": "stdout",
          "text": [
            "Shape of 'pool' matrix: (2, 3)\n",
            "(2, 2)\n",
            "4\n",
            "Dimensions of 'A': 1\n",
            "Dimensions of 'pool': 2\n"
          ]
        }
      ]
    },
    {
      "cell_type": "code",
      "source": [],
      "metadata": {
        "id": "davYwMe6uGWh"
      },
      "execution_count": null,
      "outputs": []
    }
  ]
}