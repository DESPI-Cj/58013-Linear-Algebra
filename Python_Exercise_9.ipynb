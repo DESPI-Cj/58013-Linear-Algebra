{
  "nbformat": 4,
  "nbformat_minor": 0,
  "metadata": {
    "colab": {
      "provenance": [],
      "authorship_tag": "ABX9TyP9eghTCKp5RLd5qfpiiOXH",
      "include_colab_link": true
    },
    "kernelspec": {
      "name": "python3",
      "display_name": "Python 3"
    },
    "language_info": {
      "name": "python"
    }
  },
  "cells": [
    {
      "cell_type": "markdown",
      "metadata": {
        "id": "view-in-github",
        "colab_type": "text"
      },
      "source": [
        "<a href=\"https://colab.research.google.com/github/DESPI-Cj/58013-Linear-Algebra/blob/main/Python_Exercise_9.ipynb\" target=\"_parent\"><img src=\"https://colab.research.google.com/assets/colab-badge.svg\" alt=\"Open In Colab\"/></a>"
      ]
    },
    {
      "cell_type": "code",
      "execution_count": null,
      "metadata": {
        "id": "Hhc0yfua3Ggm"
      },
      "outputs": [],
      "source": [
        "import numpy as np\n",
        "import matplotlib.pyplot as plt\n",
        "%matplotlib inline\n",
        "\n",
        "A = np.array([\n",
        "    [1,4],\n",
        "    [0,3]\n",
        "])\n",
        "np.linalg.det(A)\n",
        "\n",
        "## Now other mathematics classes would require you to solve this by hand,\n",
        "## and that is great for practicing your memorization and coordination skills\n",
        "## but in this class we aim for simplicity and speed so we'll use programming\n",
        "## but it's completely fine if you want to try to solve this one by hand.\n",
        "B = np.array([\n",
        "    [1,3,5,6],\n",
        "    [0,3,1,3],\n",
        "    [3,1,8,2],\n",
        "    [5,2,6,8]\n",
        "])\n",
        "np.linalg.det(B)\n",
        "\n"
      ]
    },
    {
      "cell_type": "code",
      "source": [
        "#Assiociative Property\n",
        "import numpy as np\n",
        "\n",
        "# Define matrices A, B, and C\n",
        "A = np.array([[1, 0, 0], [0, 1, 0], [0, 0, 1]])\n",
        "B = np.array([[2, 0, 0], [0, 2, 0], [0, 0, 2]])\n",
        "C = np.array([[3, 0, 0], [0, 3, 0], [0, 0, 3]])\n",
        "\n",
        "# Calculate A × (B × C)\n",
        "result1 = np.dot(A, np.dot(B, C))\n",
        "\n",
        "# Calculate (A × B) × C\n",
        "result2 = np.dot(np.dot(A, B), C)\n",
        "\n",
        "#Display matrices A,B,C\n",
        "print(\"Matrice A\")\n",
        "print(A,\"\\n\")\n",
        "print(\"Matrice B\")\n",
        "print(B,\"\\n\")\n",
        "print(\"Matrice C\")\n",
        "print(C,\"\\n\")\n",
        "\n",
        "# Display the results\n",
        "print(\"A × (B × C):\")\n",
        "print(result1)\n",
        "print(\"\\n(A × B) × C:\")\n",
        "print(result2)\n",
        "\n",
        "# Check if the results are equal (associative property)\n",
        "equal = np.array_equal(result1, result2)\n",
        "print(\"Results are equal therefore:\", equal)\n"
      ],
      "metadata": {
        "colab": {
          "base_uri": "https://localhost:8080/"
        },
        "id": "41xwWV0a4AvZ",
        "outputId": "3be60308-a253-41ed-86da-6273e53e3889"
      },
      "execution_count": null,
      "outputs": [
        {
          "output_type": "stream",
          "name": "stdout",
          "text": [
            "Matrice A\n",
            "[[1 0 0]\n",
            " [0 1 0]\n",
            " [0 0 1]] \n",
            "\n",
            "Matrice B\n",
            "[[2 0 0]\n",
            " [0 2 0]\n",
            " [0 0 2]] \n",
            "\n",
            "Matrice C\n",
            "[[3 0 0]\n",
            " [0 3 0]\n",
            " [0 0 3]] \n",
            "\n",
            "A × (B × C):\n",
            "[[6 0 0]\n",
            " [0 6 0]\n",
            " [0 0 6]]\n",
            "\n",
            "(A × B) × C:\n",
            "[[6 0 0]\n",
            " [0 6 0]\n",
            " [0 0 6]]\n",
            "Results are equal therefore: True\n"
          ]
        }
      ]
    },
    {
      "cell_type": "code",
      "source": [
        "#Distributive Property\n",
        "import numpy as np\n",
        "\n",
        "# Define 3x3 matrices A, B, and C\n",
        "A = np.array([[1, 2, 3], [4, 5, 6], [7, 8, 9]])\n",
        "B = np.array([[10, 11, 12], [13, 14, 15], [16, 17, 18]])\n",
        "C = np.array([[19, 20, 21], [22, 23, 24], [25, 26, 27]])\n",
        "\n",
        "# Calculate the products and the sum\n",
        "product1 = np.dot(A, B + C)  # A * (B + C)\n",
        "product2 = np.dot(A, B) + np.dot(A, C)  # A * B + A * C\n",
        "\n",
        "#Display matrices A,B,C\n",
        "print(\"Matrice A\")\n",
        "print(A,\"\\n\")\n",
        "print(\"Matrice B\")\n",
        "print(B,\"\\n\")\n",
        "print(\"Matrice C\")\n",
        "print(C,\"\\n\")\n",
        "\n",
        "# Display the results\n",
        "print(\"A * (B + C):\")\n",
        "print(product1)\n",
        "print(\"\\nA * B + A * C:\")\n",
        "print(product2)\n",
        "\n",
        "# Check if the results are equal (distributive property)\n",
        "equal = np.array_equal(product1, product2)\n",
        "print(\"Results are equal therefore:\", equal)\n"
      ],
      "metadata": {
        "colab": {
          "base_uri": "https://localhost:8080/"
        },
        "id": "rWq5_hBd5QQ3",
        "outputId": "79991b33-4f68-47aa-8545-cdfe9635dca8"
      },
      "execution_count": null,
      "outputs": [
        {
          "output_type": "stream",
          "name": "stdout",
          "text": [
            "Matrice A\n",
            "[[1 2 3]\n",
            " [4 5 6]\n",
            " [7 8 9]] \n",
            "\n",
            "Matrice B\n",
            "[[10 11 12]\n",
            " [13 14 15]\n",
            " [16 17 18]] \n",
            "\n",
            "Matrice C\n",
            "[[19 20 21]\n",
            " [22 23 24]\n",
            " [25 26 27]] \n",
            "\n",
            "A * (B + C):\n",
            "[[222 234 246]\n",
            " [537 567 597]\n",
            " [852 900 948]]\n",
            "\n",
            "A * B + A * C:\n",
            "[[222 234 246]\n",
            " [537 567 597]\n",
            " [852 900 948]]\n",
            "Results are equal therefore: True\n"
          ]
        }
      ]
    },
    {
      "cell_type": "code",
      "source": [
        "#Commutative Property\n",
        "import numpy as np\n",
        "\n",
        "# Create matrix A\n",
        "A = np.array([[1, 2, 3],\n",
        "              [4, 5, 6],\n",
        "              [7, 8, 9]])\n",
        "\n",
        "# Create matrix B\n",
        "B = np.array([[10, 11, 12],\n",
        "              [13, 14, 15],\n",
        "              [16, 17, 18]])\n",
        "\n",
        "# Calculate A × B and B × A\n",
        "AB = np.dot(A, B)  # A × B\n",
        "BA = np.dot(B, A)  # B × A\n",
        "\n",
        "# Display matrices A and B\n",
        "print(\"Matrix A:\")\n",
        "print(A)\n",
        "print(\"\\nMatrix B:\")\n",
        "print(B)\n",
        "\n",
        "# Display the results of A × B and B × A\n",
        "print(\"\\nA × B:\")\n",
        "print(AB)\n",
        "print(\"\\nB × A:\")\n",
        "print(BA)\n",
        "\n",
        "# Check if A × B is equal to B × A (commutative property)\n",
        "equal = np.array_equal(AB, BA)\n",
        "print(\"\\n A x B = B x A?\", equal)\n"
      ],
      "metadata": {
        "colab": {
          "base_uri": "https://localhost:8080/"
        },
        "id": "dc-zYhap6T5E",
        "outputId": "86bea99c-4d37-48eb-d484-dbeb5018833b"
      },
      "execution_count": null,
      "outputs": [
        {
          "output_type": "stream",
          "name": "stdout",
          "text": [
            "Matrix A:\n",
            "[[1 2 3]\n",
            " [4 5 6]\n",
            " [7 8 9]]\n",
            "\n",
            "Matrix B:\n",
            "[[10 11 12]\n",
            " [13 14 15]\n",
            " [16 17 18]]\n",
            "\n",
            "A × B:\n",
            "[[ 84  90  96]\n",
            " [201 216 231]\n",
            " [318 342 366]]\n",
            "\n",
            "B × A:\n",
            "[[138 171 204]\n",
            " [174 216 258]\n",
            " [210 261 312]]\n",
            "\n",
            " A x B = B x A? False\n"
          ]
        }
      ]
    },
    {
      "cell_type": "code",
      "source": [
        "#Identity Property\n",
        "import numpy as np\n",
        "\n",
        "# Define a 3x3 matrix A\n",
        "A = np.array([[1, 2, 3],\n",
        "              [4, 5, 6],\n",
        "              [7, 8, 9]])\n",
        "\n",
        "# Define the 3x3 identity matrix\n",
        "B = np.identity(3)\n",
        "\n",
        "# Multiply A by the identity matrix\n",
        "AB = np.dot(A, B)\n",
        "\n",
        "# Display matrix A,B,I\n",
        "print(\"Matrix A:\")\n",
        "print(A)\n",
        "print(\"\\nMatrix B:\")\n",
        "print(B)\n",
        "print(\"\\nMatrix AB (Identity matrix):\")\n",
        "print(AB)\n",
        "\n",
        "# Check if AB = A\n",
        "result = np.array_equal(AB, A)\n",
        "print(\"AB = A?\", result)\n"
      ],
      "metadata": {
        "colab": {
          "base_uri": "https://localhost:8080/"
        },
        "id": "ngxuopAk6XOk",
        "outputId": "5b5b17c5-009f-4e05-d524-de7a6f855709"
      },
      "execution_count": 1,
      "outputs": [
        {
          "output_type": "stream",
          "name": "stdout",
          "text": [
            "Matrix A:\n",
            "[[1 2 3]\n",
            " [4 5 6]\n",
            " [7 8 9]]\n",
            "\n",
            "Matrix B:\n",
            "[[1. 0. 0.]\n",
            " [0. 1. 0.]\n",
            " [0. 0. 1.]]\n",
            "\n",
            "Matrix AB (Identity matrix):\n",
            "[[1. 2. 3.]\n",
            " [4. 5. 6.]\n",
            " [7. 8. 9.]]\n",
            "AB = A? True\n"
          ]
        }
      ]
    },
    {
      "cell_type": "code",
      "source": [
        "#Zero Property\n",
        "import numpy as np\n",
        "\n",
        "# Create a 3x3 matrix A\n",
        "A = np.array([[1, 2, 3],\n",
        "              [4, 5, 6],\n",
        "              [7, 8, 9]])\n",
        "\n",
        "# Create a 3x3 zero matrix\n",
        "zero_matrix = np.zeros((3, 3))\n",
        "\n",
        "# Calculate A × 0 and 0 × A\n",
        "A_O = np.dot(A, zero_matrix)\n",
        "O_A = np.dot(zero_matrix, A)\n",
        "\n",
        "# Display matrix A,B,I\n",
        "print(\"Matrix A:\")\n",
        "print(A)\n",
        "print(\"\\nMatrix O:\")\n",
        "print(zero_matrix)\n",
        "\n",
        "# Display the results\n",
        "print(\"\\nA × 0:\")\n",
        "print(A_O)\n",
        "print(\"\\n0 × A:\")\n",
        "print(O_A)\n",
        "\n",
        "is_A_O_zero = np.array_equal(A_O, zero_matrix)\n",
        "print(\"\\nIs A × 0 = 0?\", is_A_O_zero)"
      ],
      "metadata": {
        "colab": {
          "base_uri": "https://localhost:8080/"
        },
        "id": "sBhgOMPQ7IVV",
        "outputId": "d82eff03-bb2e-44b0-8c73-21b18b7107ff"
      },
      "execution_count": null,
      "outputs": [
        {
          "output_type": "stream",
          "name": "stdout",
          "text": [
            "Matrix A:\n",
            "[[1 2 3]\n",
            " [4 5 6]\n",
            " [7 8 9]]\n",
            "\n",
            "Matrix O:\n",
            "[[0. 0. 0.]\n",
            " [0. 0. 0.]\n",
            " [0. 0. 0.]]\n",
            "\n",
            "A × 0:\n",
            "[[0. 0. 0.]\n",
            " [0. 0. 0.]\n",
            " [0. 0. 0.]]\n",
            "\n",
            "0 × A:\n",
            "[[0. 0. 0.]\n",
            " [0. 0. 0.]\n",
            " [0. 0. 0.]]\n",
            "\n",
            "Is A × 0 = 0? True\n"
          ]
        }
      ]
    },
    {
      "cell_type": "code",
      "source": [
        "#Dimension property\n",
        "import numpy as np\n",
        "\n",
        "# Create a 3x4 matrix A\n",
        "A = np.array([[1, 2, 3, 4],\n",
        "              [5, 6, 7, 8],\n",
        "              [9, 10, 11, 12]])\n",
        "\n",
        "# Create a 4x3 matrix B\n",
        "B = np.array([[13, 14, 15],\n",
        "              [16, 17, 18],\n",
        "              [19, 20, 21],\n",
        "              [22, 23, 24]])\n",
        "\n",
        "# Perform matrix multiplication (A * B)\n",
        "result = np.dot(A, B)\n",
        "\n",
        "# Display matrices A and B\n",
        "print(\"Matrix A (3x4):\")\n",
        "print(A)\n",
        "print(\"\\nMatrix B (4x3):\")\n",
        "print(B)\n",
        "\n",
        "# Display the result of A * B\n",
        "print(\"\\nResult of A * B (3x3):\")\n",
        "print(result)\n",
        "\n",
        "print(\"\\n(m x n)x(n x k) = m x k?\")\n",
        "print(\"\\n(3 x 3)x(4 x 3) = 3 x 3?, True\")"
      ],
      "metadata": {
        "colab": {
          "base_uri": "https://localhost:8080/"
        },
        "id": "ryYPq1-37Ws0",
        "outputId": "e338cefd-6545-4cc9-b9a4-dd418ffc6681"
      },
      "execution_count": null,
      "outputs": [
        {
          "output_type": "stream",
          "name": "stdout",
          "text": [
            "Matrix A (3x4):\n",
            "[[ 1  2  3  4]\n",
            " [ 5  6  7  8]\n",
            " [ 9 10 11 12]]\n",
            "\n",
            "Matrix B (4x3):\n",
            "[[13 14 15]\n",
            " [16 17 18]\n",
            " [19 20 21]\n",
            " [22 23 24]]\n",
            "\n",
            "Result of A * B (3x3):\n",
            "[[190 200 210]\n",
            " [470 496 522]\n",
            " [750 792 834]]\n",
            "\n",
            "(m x n)x(n x k) = m x k?\n",
            "\n",
            "(3 x 3)x(4 x 3) = 3 x 3?, True\n"
          ]
        }
      ]
    },
    {
      "cell_type": "code",
      "source": [],
      "metadata": {
        "id": "u_HNf_lKDwMh"
      },
      "execution_count": null,
      "outputs": []
    }
  ]
}