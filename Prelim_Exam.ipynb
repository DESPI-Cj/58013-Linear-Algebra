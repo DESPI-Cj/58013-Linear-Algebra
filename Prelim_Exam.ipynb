{
  "nbformat": 4,
  "nbformat_minor": 0,
  "metadata": {
    "colab": {
      "provenance": [],
      "authorship_tag": "ABX9TyNa+hNiphcHiBXpeX59nPff",
      "include_colab_link": true
    },
    "kernelspec": {
      "name": "python3",
      "display_name": "Python 3"
    },
    "language_info": {
      "name": "python"
    }
  },
  "cells": [
    {
      "cell_type": "markdown",
      "metadata": {
        "id": "view-in-github",
        "colab_type": "text"
      },
      "source": [
        "<a href=\"https://colab.research.google.com/github/DESPI-Cj/58013-Linear-Algebra/blob/main/Prelim_Exam.ipynb\" target=\"_parent\"><img src=\"https://colab.research.google.com/assets/colab-badge.svg\" alt=\"Open In Colab\"/></a>"
      ]
    },
    {
      "cell_type": "markdown",
      "source": [
        "Question 1. (20 points) Create a Multiplication Table/Chart of 1 to 10 using numpy/ python program."
      ],
      "metadata": {
        "id": "M1kc9rXnzgl1"
      }
    },
    {
      "cell_type": "code",
      "execution_count": 11,
      "metadata": {
        "colab": {
          "base_uri": "https://localhost:8080/"
        },
        "id": "GB207B2Vs1Rn",
        "outputId": "38ccc40b-fd59-4aa8-c962-2ad204b946d6"
      },
      "outputs": [
        {
          "output_type": "stream",
          "name": "stdout",
          "text": [
            "[[  1   2   3   4   5   6   7   8   9  10]\n",
            " [  2   4   6   8  10  12  14  16  18  20]\n",
            " [  3   6   9  12  15  18  21  24  27  30]\n",
            " [  4   8  12  16  20  24  28  32  36  40]\n",
            " [  5  10  15  20  25  30  35  40  45  50]\n",
            " [  6  12  18  24  30  36  42  48  54  60]\n",
            " [  7  14  21  28  35  42  49  56  63  70]\n",
            " [  8  16  24  32  40  48  56  64  72  80]\n",
            " [  9  18  27  36  45  54  63  72  81  90]\n",
            " [ 10  20  30  40  50  60  70  80  90 100]]\n"
          ]
        }
      ],
      "source": [
        "import numpy as np\n",
        "Multi_table = ([\n",
        "    [1,2,3,4,5,6,7,8,9,10],\n",
        "    [2,4,6,8,10,12,14,16,18,20],\n",
        "    [3,6,9,12,15,18,21,24,27,30],\n",
        "    [4,8,12,16,20,24,28,32,36,40],\n",
        "    [5,10,15,20,25,30,35,40,45,50],\n",
        "    [6,12,18,24,30,36,42,48,54,60],\n",
        "    [7,14,21,28,35,42,49,56,63,70],\n",
        "    [8,16,24,32,40,48,56,64,72,80],\n",
        "    [9,18,27,36,45,54,63,72,81,90],\n",
        "    [10,20,30,40,50,60,70,80,90,100]\n",
        "])\n",
        "print(np.matrix(Multi_table))\n"
      ]
    },
    {
      "cell_type": "markdown",
      "source": [
        "Question 2. (10 points) In relation to Question 1, show a solution that doubles all the values of each element."
      ],
      "metadata": {
        "id": "sYACAyuVzi2c"
      }
    },
    {
      "cell_type": "code",
      "source": [
        "import numpy as np\n",
        "Multi_table = ([\n",
        "    [1,2,3,4,5,6,7,8,9,10],\n",
        "    [2,4,6,8,10,12,14,16,18,20],\n",
        "    [3,6,9,12,15,18,21,24,27,30],\n",
        "    [4,8,12,16,20,24,28,32,36,40],\n",
        "    [5,10,15,20,25,30,35,40,45,50],\n",
        "    [6,12,18,24,30,36,42,48,54,60],\n",
        "    [7,14,21,28,35,42,49,56,63,70],\n",
        "    [8,16,24,32,40,48,56,64,72,80],\n",
        "    [9,18,27,36,45,54,63,72,81,90],\n",
        "    [10,20,30,40,50,60,70,80,90,100]\n",
        "])\n",
        "\n",
        "double = np.multiply(2,Multi_table)\n",
        "print(double)\n"
      ],
      "metadata": {
        "colab": {
          "base_uri": "https://localhost:8080/"
        },
        "id": "n_0TnZATtpUw",
        "outputId": "035dcad9-478b-47c2-953a-ca884ed5dd17"
      },
      "execution_count": 6,
      "outputs": [
        {
          "output_type": "stream",
          "name": "stdout",
          "text": [
            "[[  2   4   6   8  10  12  14  16  18  20]\n",
            " [  4   8  12  16  20  24  28  32  36  40]\n",
            " [  6  12  18  24  30  36  42  48  54  60]\n",
            " [  8  16  24  32  40  48  56  64  72  80]\n",
            " [ 10  20  30  40  50  60  70  80  90 100]\n",
            " [ 12  24  36  48  60  72  84  96 108 120]\n",
            " [ 14  28  42  56  70  84  98 112 126 140]\n",
            " [ 16  32  48  64  80  96 112 128 144 160]\n",
            " [ 18  36  54  72  90 108 126 144 162 180]\n",
            " [ 20  40  60  80 100 120 140 160 180 200]]\n"
          ]
        }
      ]
    },
    {
      "cell_type": "markdown",
      "source": [
        "Question 3. (10 points) Create a square matrix that has a diagonal 1's.\n",
        "\n"
      ],
      "metadata": {
        "id": "87dJkypVznrF"
      }
    },
    {
      "cell_type": "code",
      "source": [
        "import numpy as np\n",
        "array = np.eye(10,10)\n",
        "print(array)\n",
        "\n",
        "\n"
      ],
      "metadata": {
        "colab": {
          "base_uri": "https://localhost:8080/"
        },
        "id": "Y84Hg8NouVSm",
        "outputId": "78740132-ac2a-4010-834f-60c6ce6abfee"
      },
      "execution_count": 3,
      "outputs": [
        {
          "output_type": "stream",
          "name": "stdout",
          "text": [
            "[[1. 0. 0. 0. 0. 0. 0. 0. 0. 0.]\n",
            " [0. 1. 0. 0. 0. 0. 0. 0. 0. 0.]\n",
            " [0. 0. 1. 0. 0. 0. 0. 0. 0. 0.]\n",
            " [0. 0. 0. 1. 0. 0. 0. 0. 0. 0.]\n",
            " [0. 0. 0. 0. 1. 0. 0. 0. 0. 0.]\n",
            " [0. 0. 0. 0. 0. 1. 0. 0. 0. 0.]\n",
            " [0. 0. 0. 0. 0. 0. 1. 0. 0. 0.]\n",
            " [0. 0. 0. 0. 0. 0. 0. 1. 0. 0.]\n",
            " [0. 0. 0. 0. 0. 0. 0. 0. 1. 0.]\n",
            " [0. 0. 0. 0. 0. 0. 0. 0. 0. 1.]]\n"
          ]
        }
      ]
    },
    {
      "cell_type": "markdown",
      "source": [
        "Question 4. (30 points) Create a matrix whose elements are:"
      ],
      "metadata": {
        "id": "1bA6VocwzpUd"
      }
    },
    {
      "cell_type": "code",
      "source": [
        "import numpy as np\n",
        "matrix = np.array([[1, 2, 3, 4],\n",
        "                   [5, 6, 7, 8],\n",
        "                   [9, 10, 11, 12]])\n",
        "print(\"View Matrix:\")\n",
        "print(matrix)\n",
        "print(\"===============\")\n",
        "\n",
        "print(\"The shape of the matrix is,\",matrix.shape)\n",
        "print(\"The dimension of the matrix is,\",matrix.ndim)\n"
      ],
      "metadata": {
        "colab": {
          "base_uri": "https://localhost:8080/"
        },
        "id": "aCFNSOQzvKjF",
        "outputId": "8b7d4ac3-f270-4991-fb96-737e3334a0d8"
      },
      "execution_count": 4,
      "outputs": [
        {
          "output_type": "stream",
          "name": "stdout",
          "text": [
            "View Matrix:\n",
            "[[ 1  2  3  4]\n",
            " [ 5  6  7  8]\n",
            " [ 9 10 11 12]]\n",
            "===============\n",
            "The shape of the matrix is, (3, 4)\n",
            "The dimension of the matrix is, 2\n"
          ]
        }
      ]
    },
    {
      "cell_type": "markdown",
      "source": [
        "Question 5. (30 points) Create a result array by adding the following two NumPy arrays. Next, modify the result array by calculating the square of each element."
      ],
      "metadata": {
        "id": "7fyoECfo0U78"
      }
    },
    {
      "cell_type": "code",
      "source": [],
      "metadata": {
        "id": "kFtHOd3lzq4M"
      },
      "execution_count": null,
      "outputs": []
    }
  ]
}