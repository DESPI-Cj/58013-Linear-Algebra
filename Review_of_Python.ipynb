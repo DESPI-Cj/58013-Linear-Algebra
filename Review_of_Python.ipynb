{
  "nbformat": 4,
  "nbformat_minor": 0,
  "metadata": {
    "colab": {
      "provenance": [],
      "authorship_tag": "ABX9TyOiAn/UQ4jBwTrkML42gwDL",
      "include_colab_link": true
    },
    "kernelspec": {
      "name": "python3",
      "display_name": "Python 3"
    },
    "language_info": {
      "name": "python"
    }
  },
  "cells": [
    {
      "cell_type": "markdown",
      "metadata": {
        "id": "view-in-github",
        "colab_type": "text"
      },
      "source": [
        "<a href=\"https://colab.research.google.com/github/DESPI-Cj/58013-Linear-Algebra/blob/main/Review_of_Python.ipynb\" target=\"_parent\"><img src=\"https://colab.research.google.com/assets/colab-badge.svg\" alt=\"Open In Colab\"/></a>"
      ]
    },
    {
      "cell_type": "code",
      "execution_count": null,
      "metadata": {
        "colab": {
          "base_uri": "https://localhost:8080/"
        },
        "id": "qD2yDKZfffSk",
        "outputId": "f424072e-02db-490d-acaf-849d1e96e689"
      },
      "outputs": [
        {
          "output_type": "stream",
          "name": "stdout",
          "text": [
            "Five is greater than two\n"
          ]
        }
      ],
      "source": [
        "#Python Indentation\n",
        "\n",
        "if 5>2:\n",
        "  print(\"Five is greater than two\")"
      ]
    },
    {
      "cell_type": "code",
      "source": [
        "#This is a comment\n",
        "print(\"Hello, Ma'am\")"
      ],
      "metadata": {
        "id": "nB_PZXXyg6Ry",
        "colab": {
          "base_uri": "https://localhost:8080/"
        },
        "outputId": "b5ef74e6-df70-421f-c44d-b533377d38bd"
      },
      "execution_count": 3,
      "outputs": [
        {
          "output_type": "stream",
          "name": "stdout",
          "text": [
            "Hello, Ma'am\n"
          ]
        }
      ]
    },
    {
      "cell_type": "code",
      "source": [
        "#Python Variable\n",
        "x = 1\n",
        "a, b=0,-1\n",
        "a,b,c=0,-1,2\n",
        "print(a,b,c)"
      ],
      "metadata": {
        "colab": {
          "base_uri": "https://localhost:8080/"
        },
        "id": "rfKpTQDAjSjE",
        "outputId": "84034c1d-5398-4fec-fe8e-f4cce55b975e"
      },
      "execution_count": 5,
      "outputs": [
        {
          "output_type": "stream",
          "name": "stdout",
          "text": [
            "0 -1 2\n"
          ]
        }
      ]
    },
    {
      "cell_type": "code",
      "source": [
        "#Casting\n",
        "b=\"Fireball!\"\n",
        "b=int(4)\n",
        "print(b)\n",
        "\n",
        "b=float(4)\n",
        "print(b)"
      ],
      "metadata": {
        "colab": {
          "base_uri": "https://localhost:8080/"
        },
        "id": "OFbIsjgTjkSy",
        "outputId": "8066f460-b8c4-4ea3-ed51-c5af8014351f"
      },
      "execution_count": 7,
      "outputs": [
        {
          "output_type": "stream",
          "name": "stdout",
          "text": [
            "4\n",
            "4.0\n"
          ]
        }
      ]
    },
    {
      "cell_type": "code",
      "source": [
        "x = 5\n",
        "y = \"John\"\n",
        "print(type(x))\n",
        "print(type(y))"
      ],
      "metadata": {
        "colab": {
          "base_uri": "https://localhost:8080/"
        },
        "id": "9_MqJK-gjwpa",
        "outputId": "db7e4b5f-d24a-497d-f2dd-60908634ae0b"
      },
      "execution_count": 10,
      "outputs": [
        {
          "output_type": "stream",
          "name": "stdout",
          "text": [
            "<class 'int'>\n",
            "<class 'str'>\n"
          ]
        }
      ]
    },
    {
      "cell_type": "code",
      "source": [
        "#Single or Double quote\n",
        "y= \"Despi\"\n",
        "y='Despi'"
      ],
      "metadata": {
        "id": "0KOuZ_BikVns"
      },
      "execution_count": null,
      "outputs": []
    },
    {
      "cell_type": "code",
      "source": [
        "#Case sensitve\n",
        "a=4\n",
        "A=\"Sally\"\n",
        "#A will not overwrite a\n"
      ],
      "metadata": {
        "id": "uJAAWlLxlPBL"
      },
      "execution_count": null,
      "outputs": []
    },
    {
      "cell_type": "code",
      "source": [
        "#Multiple Variables\n",
        "x,y,z=\"one\",\"two\",\"three\"\n",
        "print(x,y,z)\n",
        "\n"
      ],
      "metadata": {
        "colab": {
          "base_uri": "https://localhost:8080/"
        },
        "id": "FfzFKFKOlbQf",
        "outputId": "817a11d1-cb2f-4806-9b5e-1ab1b30e2118"
      },
      "execution_count": 13,
      "outputs": [
        {
          "output_type": "stream",
          "name": "stdout",
          "text": [
            "one two three\n"
          ]
        }
      ]
    },
    {
      "cell_type": "code",
      "source": [
        "#One value to multiple variables\n",
        "x=y=z=\"four\"\n",
        "print(x,y,z)"
      ],
      "metadata": {
        "colab": {
          "base_uri": "https://localhost:8080/"
        },
        "id": "dDcHb_4clqH0",
        "outputId": "91f85191-ab9e-4e0e-967b-03a54a0ab7a6"
      },
      "execution_count": 15,
      "outputs": [
        {
          "output_type": "stream",
          "name": "stdout",
          "text": [
            "four four four\n"
          ]
        }
      ]
    },
    {
      "cell_type": "code",
      "source": [
        "#Output Variables\n",
        "x = \" enjoying\"\n",
        "print(\"Python is\" + x)\n",
        "\n",
        "#Other Way\n",
        "x = \"Python is\"\n",
        "y = \" enjoying\"\n",
        "z = x + y\n",
        "print(z)"
      ],
      "metadata": {
        "colab": {
          "base_uri": "https://localhost:8080/"
        },
        "id": "j-_BpjhRl5ni",
        "outputId": "ddef9a9c-1c5e-4a5d-e488-080b8872a598"
      },
      "execution_count": 22,
      "outputs": [
        {
          "output_type": "stream",
          "name": "stdout",
          "text": [
            "Python is enjoying\n",
            "Python is enjoying\n"
          ]
        }
      ]
    },
    {
      "cell_type": "code",
      "source": [
        "#Arithmetic Operation\n",
        "x = 5\n",
        "y = 3\n",
        "print(x+y)\n",
        "\n",
        "x = 5\n",
        "y = 3\n",
        "sum = x + y\n",
        "print(sum)\n",
        "\n"
      ],
      "metadata": {
        "colab": {
          "base_uri": "https://localhost:8080/"
        },
        "id": "18_o3sI5nAjK",
        "outputId": "85cafcdf-53fc-4384-c6fe-4e466a1189a8"
      },
      "execution_count": 27,
      "outputs": [
        {
          "output_type": "stream",
          "name": "stdout",
          "text": [
            "8\n",
            "8\n"
          ]
        }
      ]
    },
    {
      "cell_type": "code",
      "source": [
        "#Assignment Operator\n",
        "a,b,c = 0,-1,6\n",
        "c%=3\n",
        "print(c)"
      ],
      "metadata": {
        "colab": {
          "base_uri": "https://localhost:8080/"
        },
        "id": "qB4tYzU-oFXK",
        "outputId": "5366793a-2c03-43fe-e814-33ee225afeae"
      },
      "execution_count": 28,
      "outputs": [
        {
          "output_type": "stream",
          "name": "stdout",
          "text": [
            "0\n"
          ]
        }
      ]
    },
    {
      "cell_type": "code",
      "source": [
        "#Comparison Operator\n",
        "a,b,c=0,-1,6\n",
        "a>b and c>b"
      ],
      "metadata": {
        "colab": {
          "base_uri": "https://localhost:8080/"
        },
        "id": "-aC7-TPqo8nr",
        "outputId": "f5cc6a6e-16d8-48c4-840f-cabed4604e98"
      },
      "execution_count": 30,
      "outputs": [
        {
          "output_type": "execute_result",
          "data": {
            "text/plain": [
              "True"
            ]
          },
          "metadata": {},
          "execution_count": 30
        }
      ]
    },
    {
      "cell_type": "code",
      "source": [
        "#Identity Operator\n",
        "a,b,c=0,-1,5\n",
        "a is c\n"
      ],
      "metadata": {
        "colab": {
          "base_uri": "https://localhost:8080/"
        },
        "id": "OA7bKeKuqH73",
        "outputId": "0e32f45b-53f2-4e20-ef61-1630d500c7b6"
      },
      "execution_count": 38,
      "outputs": [
        {
          "output_type": "execute_result",
          "data": {
            "text/plain": [
              "False"
            ]
          },
          "metadata": {},
          "execution_count": 38
        }
      ]
    },
    {
      "cell_type": "code",
      "source": [
        "#Bitwise Operator\n",
        "a,b,c=0,-1,5\n",
        "c<<1"
      ],
      "metadata": {
        "colab": {
          "base_uri": "https://localhost:8080/"
        },
        "id": "QzxjSYSbr3Qt",
        "outputId": "11c5604c-18d6-4cd4-9774-9af92b55ebd5"
      },
      "execution_count": 39,
      "outputs": [
        {
          "output_type": "execute_result",
          "data": {
            "text/plain": [
              "2"
            ]
          },
          "metadata": {},
          "execution_count": 39
        }
      ]
    }
  ]
}