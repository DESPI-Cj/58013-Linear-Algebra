{
  "nbformat": 4,
  "nbformat_minor": 0,
  "metadata": {
    "colab": {
      "provenance": [],
      "authorship_tag": "ABX9TyOwRP9IVmoLFlRetEAaLPnb",
      "include_colab_link": true
    },
    "kernelspec": {
      "name": "python3",
      "display_name": "Python 3"
    },
    "language_info": {
      "name": "python"
    }
  },
  "cells": [
    {
      "cell_type": "markdown",
      "metadata": {
        "id": "view-in-github",
        "colab_type": "text"
      },
      "source": [
        "<a href=\"https://colab.research.google.com/github/DESPI-Cj/58013-Linear-Algebra/blob/main/Determinant_of_Matrix.ipynb\" target=\"_parent\"><img src=\"https://colab.research.google.com/assets/colab-badge.svg\" alt=\"Open In Colab\"/></a>"
      ]
    },
    {
      "cell_type": "code",
      "execution_count": null,
      "metadata": {
        "colab": {
          "base_uri": "https://localhost:8080/"
        },
        "id": "L9a1t0wgyaxQ",
        "outputId": "51346e80-5c5b-42cd-c9b7-fbe305b8a2f3"
      },
      "outputs": [
        {
          "output_type": "stream",
          "name": "stdout",
          "text": [
            "-13.999999999999996\n"
          ]
        }
      ],
      "source": [
        "import numpy as np\n",
        "A=np.array([\n",
        "    [1,2,-1],\n",
        "    [4,6,-2],\n",
        "    [-1,3,3]\n",
        "])\n",
        "\n",
        "print(np.linalg.det(A))"
      ]
    },
    {
      "cell_type": "code",
      "source": [
        "import numpy as np\n",
        "A = np.array([\n",
        "    [1,2,-1],\n",
        "    [4,6,-2],\n",
        "    [-1,3,3]\n",
        "])\n",
        "\n",
        "print(np.linalg.det(A))"
      ],
      "metadata": {
        "id": "ZuBIdai_ytDU",
        "colab": {
          "base_uri": "https://localhost:8080/"
        },
        "outputId": "ef73d567-0549-4fba-8302-548d38252393"
      },
      "execution_count": 2,
      "outputs": [
        {
          "output_type": "stream",
          "name": "stdout",
          "text": [
            "-13.999999999999996\n"
          ]
        }
      ]
    },
    {
      "cell_type": "code",
      "source": [],
      "metadata": {
        "id": "xf3aeX7Lb7T6"
      },
      "execution_count": null,
      "outputs": []
    }
  ]
}