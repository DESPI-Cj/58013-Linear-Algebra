{
  "nbformat": 4,
  "nbformat_minor": 0,
  "metadata": {
    "colab": {
      "provenance": [],
      "authorship_tag": "ABX9TyOr8QuH8FAqLx9noRUDJjno",
      "include_colab_link": true
    },
    "kernelspec": {
      "name": "python3",
      "display_name": "Python 3"
    },
    "language_info": {
      "name": "python"
    }
  },
  "cells": [
    {
      "cell_type": "markdown",
      "metadata": {
        "id": "view-in-github",
        "colab_type": "text"
      },
      "source": [
        "<a href=\"https://colab.research.google.com/github/DESPI-Cj/58013-Linear-Algebra/blob/main/Python_Exercise_10.ipynb\" target=\"_parent\"><img src=\"https://colab.research.google.com/assets/colab-badge.svg\" alt=\"Open In Colab\"/></a>"
      ]
    },
    {
      "cell_type": "code",
      "execution_count": null,
      "metadata": {
        "colab": {
          "base_uri": "https://localhost:8080/"
        },
        "id": "tqTh82l1E9ja",
        "outputId": "fd28f914-da8b-4989-b2b1-0530476e8990"
      },
      "outputs": [
        {
          "output_type": "stream",
          "name": "stdout",
          "text": [
            "[[ 1.  1.  1.]\n",
            " [ 3. -2. -1.]\n",
            " [-1.  4.  2.]]\n",
            "(3, 3)\n",
            "[[ 1.]\n",
            " [ 4.]\n",
            " [-3.]]\n",
            "(3, 1)\n"
          ]
        }
      ],
      "source": [
        "import numpy as np\n",
        "\n",
        "X = np.array([\n",
        "    [1,1,1],\n",
        "    [3,-2,-1],\n",
        "    [-1,4,2]\n",
        "], dtype=float)\n",
        "\n",
        "Y = np.array([\n",
        "    [1],\n",
        "    [4],\n",
        "    [-3]\n",
        "],dtype=float)\n",
        "print(X)\n",
        "print(X.shape)\n",
        "print(Y)\n",
        "print(Y.shape)\n"
      ]
    },
    {
      "cell_type": "markdown",
      "source": [
        "So let's start off with an easy one. Let's say you have a bakery and you are purchasing supplies consisting of flour, yeast, and eggs from your supplier. For month 1 you bought a bakery promo that consists of 30 sacks of flour, 10 packs of yeast, and 120 eggs and you are charged for 12,500 pesos. For month two you bought a different bakery promo that consists of 40 sacks of flour, 20 packs of yeast, and 200 eggs then you are charged with 18,000 pesos. And then for month three you bought yet a different bakery promo that consists of 50 sacks of flour, 40 packs of yeast, and 360 eggs for 25,700 pesos. Now you are wondering if the promos are more cost-effective compared to buying them as a regular buyer, what could be the price of the flour per sack, yeast per pack, and one piece of egg?\n",
        "\n",
        "\tCreate a python program to solve for the price of flour per sack, yeast per pack, and one piece of egg.\n"
      ],
      "metadata": {
        "id": "5iceTC3pFwEb"
      }
    },
    {
      "cell_type": "code",
      "source": [
        "# 30x + 10y + 120z = 12,500\n",
        "# 40x + 20Y + 200Z = 18,000\n",
        "# 50x + 40y + 360z = 25,700\n",
        "import numpy as np\n",
        "\n",
        "A = np.array([\n",
        "    [30, 10, 120],\n",
        "    [40, 20, 200],\n",
        "    [50, 40, 360]\n",
        "])\n",
        "\n",
        "B = np.array([12500, 18000, 25700])\n",
        "\n",
        "# Solve the system of linear equations\n",
        "solution = np.linalg.solve(A, B)\n",
        "\n",
        "flour = int(solution[0])\n",
        "yeast = int(solution[1])\n",
        "eggs = int(solution[2])\n",
        "\n",
        "print(\"The price of the flour per sack is\", flour,\"pesos\")\n",
        "print(\"The price of the yeast per pack is\", yeast,\"pesos\")\n",
        "print(\"The price of the egg per piece is\", eggs,\"pesos\")"
      ],
      "metadata": {
        "colab": {
          "base_uri": "https://localhost:8080/"
        },
        "id": "V-PPwLrvFpGN",
        "outputId": "15b30492-9a20-484c-ebc5-4b6ba9a28f21"
      },
      "execution_count": 6,
      "outputs": [
        {
          "output_type": "stream",
          "name": "stdout",
          "text": [
            "The price of the flour per sack is 330 pesos\n",
            "The price of the yeast per pack is 139 pesos\n",
            "The price of the egg per piece is 10 pesos\n"
          ]
        }
      ]
    },
    {
      "cell_type": "code",
      "source": [],
      "metadata": {
        "id": "NoAX3b0EHgjc"
      },
      "execution_count": null,
      "outputs": []
    }
  ]
}